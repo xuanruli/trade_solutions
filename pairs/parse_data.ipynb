{
 "cells": [
  {
   "cell_type": "code",
   "execution_count": null,
   "id": "fa93fb2a",
   "metadata": {},
   "outputs": [
    {
     "name": "stdout",
     "output_type": "stream",
     "text": [
      "        date ticker action   price  quantity  commission        strategy  \\\n",
      "0 2020-04-01   LEVI    BUY   20.55         1    0.010275  mean_reversion   \n",
      "1 2020-04-01    MHK   SELL  123.29         1    0.061645  mean_reversion   \n",
      "2 2020-04-02   LEVI   SELL   20.50         1    0.010250  mean_reversion   \n",
      "3 2020-04-02    MHK    BUY  125.15         1    0.062575  mean_reversion   \n",
      "4 2020-04-03   LEVI    BUY   20.09         1    0.010045  mean_reversion   \n",
      "\n",
      "        zscore  \n",
      "0 -1109.910866  \n",
      "1 -1109.910866  \n",
      "2 -1130.937649  \n",
      "3 -1130.937649  \n",
      "4 -1075.123099  \n"
     ]
    }
   ],
   "source": [
    "import pandas as pd\n",
    "\n",
    "# 假设您有一个交易日历，包含所有交易日\n",
    "# 这里以 2020-04-01 到 2025-04-01 的交易日为例\n",
    "# 您可以从数据源（如交易所或 API）获取实际的交易日历\n",
    "all_trading_days = pd.date_range(start=\"2024-04-01\", end=\"2025-04-01\", freq=\"B\")  # 'B' 表示工作日\n",
    "\n",
    "# 读取 blotter.csv 文件\n",
    "blotter = pd.read_csv('../data/blotter.csv')\n",
    "\n",
    "# 将交易日编号映射到实际日期\n",
    "blotter['date'] = blotter['date'].apply(lambda x: all_trading_days[x-989])\n",
    "\n",
    "# 查看转换后的数据\n",
    "print(blotter.head())\n",
    "\n",
    "# 保存回 CSV 文件（如果需要）\n",
    "blotter.to_csv('../data/blotter_converted.csv', index=False)"
   ]
  },
  {
   "cell_type": "code",
   "execution_count": 10,
   "id": "8371dc13",
   "metadata": {},
   "outputs": [
    {
     "name": "stdout",
     "output_type": "stream",
     "text": [
      "        date ticker action   price  quantity  commission           cash  \\\n",
      "0 2024-01-16   LEVI    BUY   20.55         1    0.010275   99979.439725   \n",
      "1 2024-01-16    MHK   SELL  123.29         1    0.061645  100102.668080   \n",
      "2 2024-01-17   LEVI   SELL   20.50         1    0.010250  100123.157830   \n",
      "3 2024-01-17    MHK    BUY  125.15         1    0.062575   99997.945255   \n",
      "4 2024-01-18   LEVI    BUY   20.09         1    0.010045   99977.845210   \n",
      "\n",
      "   portfolio_value  \n",
      "0     99995.819725  \n",
      "1    100004.038080  \n",
      "2    100008.147830  \n",
      "3     99997.945255  \n",
      "4     99994.225210  \n"
     ]
    }
   ],
   "source": [
    "ledger = pd.read_csv('../data/ledger.csv')\n",
    "ledger['date'] = ledger['date'].apply(lambda x: all_trading_days[x])\n",
    "print(ledger.head())\n",
    "ledger.to_csv('../data/ledger_converted.csv', index=False)"
   ]
  },
  {
   "cell_type": "code",
   "execution_count": 11,
   "id": "1669dec0",
   "metadata": {},
   "outputs": [
    {
     "name": "stdout",
     "output_type": "stream",
     "text": [
      "         date ticker action   price  quantity  commission           cash  \\\n",
      "0  2024-01-16   LEVI    BUY   20.55         1    0.010275   99979.439725   \n",
      "1  2024-01-16    MHK   SELL  123.29         1    0.061645  100102.668080   \n",
      "2  2024-01-17   LEVI   SELL   20.50         1    0.010250  100123.157830   \n",
      "3  2024-01-17    MHK    BUY  125.15         1    0.062575   99997.945255   \n",
      "4  2024-01-18   LEVI    BUY   20.09         1    0.010045   99977.845210   \n",
      "\n",
      "   portfolio_value  position  cumulative_position  \n",
      "0     99995.819725         1                    1  \n",
      "1    100004.038080        -1                   -1  \n",
      "2    100008.147830        -1                    0  \n",
      "3     99997.945255         1                    0  \n",
      "4     99994.225210         1                    1  \n"
     ]
    }
   ],
   "source": [
    "import pandas as pd\n",
    "\n",
    "# 读取 ledger.csv 文件\n",
    "ledger = pd.read_csv('../data/ledger_converted.csv')\n",
    "\n",
    "# 假设 ledger 文件包含以下列：['date', 'ticker', 'action', 'quantity']\n",
    "# 将奇数行和偶数行分开处理\n",
    "ledger['position'] = 0\n",
    "\n",
    "# 遍历每一行，根据 'action' 更新 'position'\n",
    "for i in range(len(ledger)):\n",
    "    if ledger.loc[i, 'action'] == 'BUY':\n",
    "        ledger.loc[i, 'position'] += ledger.loc[i, 'quantity']\n",
    "    elif ledger.loc[i, 'action'] == 'SELL':\n",
    "        ledger.loc[i, 'position'] -= ledger.loc[i, 'quantity']\n",
    "\n",
    "# 分别计算奇数行和偶数行的累积头寸\n",
    "ledger['cumulative_position'] = ledger.groupby(ledger.index % 2)['position'].cumsum()\n",
    "\n",
    "# 查看处理后的数据\n",
    "print(ledger.head())\n",
    "\n",
    "# 保存回 CSV 文件（如果需要）\n",
    "ledger.to_csv('../data/ledger_with_positions.csv', index=False)"
   ]
  },
  {
   "cell_type": "code",
   "execution_count": null,
   "id": "590ad910",
   "metadata": {},
   "outputs": [],
   "source": [
    "'''ArithmeticError\n",
    "\n",
    "\n",
    "\n",
    "\n",
    "now provide me with a good look html templates for showing our pairs trading methods, I need an interactive graph ( move mouse to show specific number) of the everyday ledger and boltter\n",
    "\n",
    "\n",
    "\n",
    "'''"
   ]
  }
 ],
 "metadata": {
  "kernelspec": {
   "display_name": "Python 3",
   "language": "python",
   "name": "python3"
  },
  "language_info": {
   "codemirror_mode": {
    "name": "ipython",
    "version": 3
   },
   "file_extension": ".py",
   "mimetype": "text/x-python",
   "name": "python",
   "nbconvert_exporter": "python",
   "pygments_lexer": "ipython3",
   "version": "3.12.5"
  }
 },
 "nbformat": 4,
 "nbformat_minor": 5
}
