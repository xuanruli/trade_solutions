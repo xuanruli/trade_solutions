{
 "cells": [
  {
   "cell_type": "code",
   "execution_count": null,
   "id": "f4be84b7",
   "metadata": {},
   "outputs": [
    {
     "name": "stdout",
     "output_type": "stream",
     "text": [
      "Maximum drawdown: 4.79%\n"
     ]
    },
    {
     "name": "stderr",
     "output_type": "stream",
     "text": [
      "C:\\Users\\Xingjian Yin\\AppData\\Local\\Temp\\ipykernel_37664\\3403295353.py:10: FutureWarning: ChainedAssignmentError: behaviour will change in pandas 3.0!\n",
      "You are setting values through chained assignment. Currently this works in certain cases, but when using Copy-on-Write (which will become the default behaviour in pandas 3.0) this will never work to update the original DataFrame or Series, because the intermediate object on which we are setting values will behave as a copy.\n",
      "A typical example is when you are setting values in a column of a DataFrame, like:\n",
      "\n",
      "df[\"col\"][row_indexer] = value\n",
      "\n",
      "Use `df.loc[row_indexer, \"col\"] = values` instead, to perform the assignment in a single step and ensure this keeps updating the original `df`.\n",
      "\n",
      "See the caveats in the documentation: https://pandas.pydata.org/pandas-docs/stable/user_guide/indexing.html#returning-a-view-versus-a-copy\n",
      "\n",
      "  final_ledger['daily_return'].iloc[0] = 0  # 设置第一个值为0\n",
      "C:\\Users\\Xingjian Yin\\AppData\\Local\\Temp\\ipykernel_37664\\3403295353.py:10: SettingWithCopyWarning: \n",
      "A value is trying to be set on a copy of a slice from a DataFrame\n",
      "\n",
      "See the caveats in the documentation: https://pandas.pydata.org/pandas-docs/stable/user_guide/indexing.html#returning-a-view-versus-a-copy\n",
      "  final_ledger['daily_return'].iloc[0] = 0  # 设置第一个值为0\n"
     ]
    },
    {
     "ename": "KeyError",
     "evalue": "'daily_return'",
     "output_type": "error",
     "traceback": [
      "\u001b[1;31m---------------------------------------------------------------------------\u001b[0m",
      "\u001b[1;31mKeyError\u001b[0m                                  Traceback (most recent call last)",
      "File \u001b[1;32mc:\\Users\\Xingjian Yin\\AppData\\Local\\Programs\\Python\\Python312\\Lib\\site-packages\\pandas\\core\\indexes\\base.py:3805\u001b[0m, in \u001b[0;36mIndex.get_loc\u001b[1;34m(self, key)\u001b[0m\n\u001b[0;32m   3804\u001b[0m \u001b[38;5;28;01mtry\u001b[39;00m:\n\u001b[1;32m-> 3805\u001b[0m     \u001b[38;5;28;01mreturn\u001b[39;00m \u001b[38;5;28;43mself\u001b[39;49m\u001b[38;5;241;43m.\u001b[39;49m\u001b[43m_engine\u001b[49m\u001b[38;5;241;43m.\u001b[39;49m\u001b[43mget_loc\u001b[49m\u001b[43m(\u001b[49m\u001b[43mcasted_key\u001b[49m\u001b[43m)\u001b[49m\n\u001b[0;32m   3806\u001b[0m \u001b[38;5;28;01mexcept\u001b[39;00m \u001b[38;5;167;01mKeyError\u001b[39;00m \u001b[38;5;28;01mas\u001b[39;00m err:\n",
      "File \u001b[1;32mindex.pyx:167\u001b[0m, in \u001b[0;36mpandas._libs.index.IndexEngine.get_loc\u001b[1;34m()\u001b[0m\n",
      "File \u001b[1;32mindex.pyx:196\u001b[0m, in \u001b[0;36mpandas._libs.index.IndexEngine.get_loc\u001b[1;34m()\u001b[0m\n",
      "File \u001b[1;32mpandas\\\\_libs\\\\hashtable_class_helper.pxi:7081\u001b[0m, in \u001b[0;36mpandas._libs.hashtable.PyObjectHashTable.get_item\u001b[1;34m()\u001b[0m\n",
      "File \u001b[1;32mpandas\\\\_libs\\\\hashtable_class_helper.pxi:7089\u001b[0m, in \u001b[0;36mpandas._libs.hashtable.PyObjectHashTable.get_item\u001b[1;34m()\u001b[0m\n",
      "\u001b[1;31mKeyError\u001b[0m: 'daily_return'",
      "\nThe above exception was the direct cause of the following exception:\n",
      "\u001b[1;31mKeyError\u001b[0m                                  Traceback (most recent call last)",
      "Cell \u001b[1;32mIn[6], line 11\u001b[0m\n\u001b[0;32m      9\u001b[0m final_ledger[\u001b[38;5;124m'\u001b[39m\u001b[38;5;124mdaily_return\u001b[39m\u001b[38;5;124m'\u001b[39m] \u001b[38;5;241m=\u001b[39m final_ledger[\u001b[38;5;124m'\u001b[39m\u001b[38;5;124mportfolio_value\u001b[39m\u001b[38;5;124m'\u001b[39m]\u001b[38;5;241m.\u001b[39mpct_change()\n\u001b[0;32m     10\u001b[0m final_ledger[\u001b[38;5;124m'\u001b[39m\u001b[38;5;124mdaily_return\u001b[39m\u001b[38;5;124m'\u001b[39m]\u001b[38;5;241m.\u001b[39miloc[\u001b[38;5;241m0\u001b[39m] \u001b[38;5;241m=\u001b[39m \u001b[38;5;241m0\u001b[39m  \u001b[38;5;66;03m# 设置第一个值为0\u001b[39;00m\n\u001b[1;32m---> 11\u001b[0m sharpe_ratio \u001b[38;5;241m=\u001b[39m \u001b[43mblotter\u001b[49m\u001b[43m[\u001b[49m\u001b[38;5;124;43m'\u001b[39;49m\u001b[38;5;124;43mdaily_return\u001b[39;49m\u001b[38;5;124;43m'\u001b[39;49m\u001b[43m]\u001b[49m\u001b[38;5;241m.\u001b[39mmean() \u001b[38;5;241m/\u001b[39m blotter[\u001b[38;5;124m'\u001b[39m\u001b[38;5;124mdaily_return\u001b[39m\u001b[38;5;124m'\u001b[39m]\u001b[38;5;241m.\u001b[39mstd()\u001b[38;5;241m*\u001b[39mnp\u001b[38;5;241m.\u001b[39msqrt((\u001b[38;5;28mlen\u001b[39m(blotter)\u001b[38;5;241m-\u001b[39m\u001b[38;5;241m1\u001b[39m))\n\u001b[0;32m     14\u001b[0m \u001b[38;5;66;03m# 除以 2，因为每个日期有两行（LEVI 和 MHK）\u001b[39;00m\n\u001b[0;32m     15\u001b[0m mean_reversion_count \u001b[38;5;241m=\u001b[39m strategy_counts\u001b[38;5;241m.\u001b[39mget(\u001b[38;5;124m'\u001b[39m\u001b[38;5;124mmean_reversion\u001b[39m\u001b[38;5;124m'\u001b[39m, \u001b[38;5;241m0\u001b[39m) \u001b[38;5;241m/\u001b[39m\u001b[38;5;241m/\u001b[39m \u001b[38;5;241m2\u001b[39m\n",
      "File \u001b[1;32mc:\\Users\\Xingjian Yin\\AppData\\Local\\Programs\\Python\\Python312\\Lib\\site-packages\\pandas\\core\\frame.py:4102\u001b[0m, in \u001b[0;36mDataFrame.__getitem__\u001b[1;34m(self, key)\u001b[0m\n\u001b[0;32m   4100\u001b[0m \u001b[38;5;28;01mif\u001b[39;00m \u001b[38;5;28mself\u001b[39m\u001b[38;5;241m.\u001b[39mcolumns\u001b[38;5;241m.\u001b[39mnlevels \u001b[38;5;241m>\u001b[39m \u001b[38;5;241m1\u001b[39m:\n\u001b[0;32m   4101\u001b[0m     \u001b[38;5;28;01mreturn\u001b[39;00m \u001b[38;5;28mself\u001b[39m\u001b[38;5;241m.\u001b[39m_getitem_multilevel(key)\n\u001b[1;32m-> 4102\u001b[0m indexer \u001b[38;5;241m=\u001b[39m \u001b[38;5;28;43mself\u001b[39;49m\u001b[38;5;241;43m.\u001b[39;49m\u001b[43mcolumns\u001b[49m\u001b[38;5;241;43m.\u001b[39;49m\u001b[43mget_loc\u001b[49m\u001b[43m(\u001b[49m\u001b[43mkey\u001b[49m\u001b[43m)\u001b[49m\n\u001b[0;32m   4103\u001b[0m \u001b[38;5;28;01mif\u001b[39;00m is_integer(indexer):\n\u001b[0;32m   4104\u001b[0m     indexer \u001b[38;5;241m=\u001b[39m [indexer]\n",
      "File \u001b[1;32mc:\\Users\\Xingjian Yin\\AppData\\Local\\Programs\\Python\\Python312\\Lib\\site-packages\\pandas\\core\\indexes\\base.py:3812\u001b[0m, in \u001b[0;36mIndex.get_loc\u001b[1;34m(self, key)\u001b[0m\n\u001b[0;32m   3807\u001b[0m     \u001b[38;5;28;01mif\u001b[39;00m \u001b[38;5;28misinstance\u001b[39m(casted_key, \u001b[38;5;28mslice\u001b[39m) \u001b[38;5;129;01mor\u001b[39;00m (\n\u001b[0;32m   3808\u001b[0m         \u001b[38;5;28misinstance\u001b[39m(casted_key, abc\u001b[38;5;241m.\u001b[39mIterable)\n\u001b[0;32m   3809\u001b[0m         \u001b[38;5;129;01mand\u001b[39;00m \u001b[38;5;28many\u001b[39m(\u001b[38;5;28misinstance\u001b[39m(x, \u001b[38;5;28mslice\u001b[39m) \u001b[38;5;28;01mfor\u001b[39;00m x \u001b[38;5;129;01min\u001b[39;00m casted_key)\n\u001b[0;32m   3810\u001b[0m     ):\n\u001b[0;32m   3811\u001b[0m         \u001b[38;5;28;01mraise\u001b[39;00m InvalidIndexError(key)\n\u001b[1;32m-> 3812\u001b[0m     \u001b[38;5;28;01mraise\u001b[39;00m \u001b[38;5;167;01mKeyError\u001b[39;00m(key) \u001b[38;5;28;01mfrom\u001b[39;00m \u001b[38;5;21;01merr\u001b[39;00m\n\u001b[0;32m   3813\u001b[0m \u001b[38;5;28;01mexcept\u001b[39;00m \u001b[38;5;167;01mTypeError\u001b[39;00m:\n\u001b[0;32m   3814\u001b[0m     \u001b[38;5;66;03m# If we have a listlike key, _check_indexing_error will raise\u001b[39;00m\n\u001b[0;32m   3815\u001b[0m     \u001b[38;5;66;03m#  InvalidIndexError. Otherwise we fall through and re-raise\u001b[39;00m\n\u001b[0;32m   3816\u001b[0m     \u001b[38;5;66;03m#  the TypeError.\u001b[39;00m\n\u001b[0;32m   3817\u001b[0m     \u001b[38;5;28mself\u001b[39m\u001b[38;5;241m.\u001b[39m_check_indexing_error(key)\n",
      "\u001b[1;31mKeyError\u001b[0m: 'daily_return'"
     ]
    }
   ],
   "source": [
    "import pandas as pd\n",
    "import numpy as np\n",
    "final_ledger = pd.read_csv('../data/final_ledger.csv')\n",
    "max_drawdown = 1-final_ledger['portfolio_value'].min()/100000\n",
    "print(f'Maximum drawdown: {max_drawdown:.2%}')\n",
    "## calculate the sharpe rati\n",
    "blotter= pd.read_csv('../data/blotter_converted.csv')\n",
    "strategy_counts = blotter['strategy'].value_counts()\n",
    "final_ledger['daily_return'] = final_ledger['portfolio_value'].pct_change()\n",
    "final_ledger['daily_return'].iloc[0] = 0  # 设置第一个值为0\n",
    "sharpe_ratio = final_ledger['daily_return'].mean() / final_ledger['daily_return'].std()*np.sqrt((len(blotter)-1))\n",
    "\n",
    "\n",
    "# 除以 2，因为每个日期有两行（LEVI 和 MHK）\n",
    "mean_reversion_count = strategy_counts.get('mean_reversion', 0) // 2\n",
    "trend_following_count = strategy_counts.get('trend_following', 0) // 2\n",
    "\n",
    "# 打印结果\n",
    "print(f\"mean_reversion: {mean_reversion_count}\")\n",
    "print(f\"trend_following: {trend_following_count}\")\n",
    "print(f\"sharpe_ratio: {sharpe_ratio:.2f}\")"
   ]
  },
  {
   "cell_type": "code",
   "execution_count": 23,
   "id": "5a9b0a96",
   "metadata": {},
   "outputs": [
    {
     "name": "stdout",
     "output_type": "stream",
     "text": [
      "         date ticker action   price  quantity  commission        cash  \\\n",
      "0  2024-04-01   LEVI    BUY   20.55         1    0.010275   79.439725   \n",
      "1  2024-04-01    MHK   SELL  123.29         1    0.061645  202.668080   \n",
      "2  2024-04-02   LEVI   SELL   20.50         1    0.010250  223.157830   \n",
      "3  2024-04-02    MHK    BUY  125.15         1    0.062575   97.945255   \n",
      "4  2024-04-03   LEVI    BUY   20.09         1    0.010045   77.845210   \n",
      "\n",
      "   portfolio_value  position  \n",
      "0        95.819725         1  \n",
      "1       104.038080        -1  \n",
      "2       108.147830         0  \n",
      "3        97.945255         0  \n",
      "4        94.225210         1  \n"
     ]
    }
   ],
   "source": [
    "import pandas as pd\n",
    "\n",
    "ledger = pd.read_csv('../data/ledger_with_positions.csv')\n",
    "ledger['position']= ledger['cumulative_position']\n",
    "ledger.drop(columns=['cumulative_position'], inplace=True)\n",
    "print(ledger.head())\n",
    "ledger.to_csv('../data/ledger_with_position.csv', index=False)"
   ]
  },
  {
   "cell_type": "code",
   "execution_count": 24,
   "id": "489a01ca",
   "metadata": {},
   "outputs": [
    {
     "name": "stdout",
     "output_type": "stream",
     "text": [
      "           date ticker action   price quantity commission        cash  \\\n",
      "0    2024-04-01   LEVI   NONE   20.55        0          0      100000   \n",
      "1    2024-04-01    MHK   NONE  123.29        0          0      100000   \n",
      "2    2024-04-02   LEVI   NONE    20.5        0          0      100000   \n",
      "3    2024-04-02    MHK   NONE  125.15        0          0      100000   \n",
      "4    2024-04-03   LEVI   NONE   20.09        0          0      100000   \n",
      "..          ...    ...    ...     ...      ...        ...         ...   \n",
      "489  2025-03-24    MHK   NONE  113.74        0          0  94705.4503   \n",
      "490  2025-03-25   LEVI   NONE   15.59        0          0  94705.4503   \n",
      "491  2025-03-25    MHK   NONE  114.18        0          0  94705.4503   \n",
      "492  2025-03-26   LEVI   NONE   16.38        0          0  94705.4503   \n",
      "493  2025-03-26    MHK   NONE  115.01        0          0  94705.4503   \n",
      "\n",
      "    portfolio_value position  \n",
      "0            100000        0  \n",
      "1            100000        0  \n",
      "2          100000.0        0  \n",
      "3          100000.0        0  \n",
      "4          100000.0        0  \n",
      "..              ...      ...  \n",
      "489       116972.94        0  \n",
      "490       116972.94        0  \n",
      "491       116972.94        0  \n",
      "492       116972.94        0  \n",
      "493       116972.94        0  \n",
      "\n",
      "[494 rows x 9 columns]\n"
     ]
    }
   ],
   "source": [
    "import pandas as pd\n",
    "\n",
    "new_ledger = pd.read_csv('../data/new_ledger.csv')\n",
    "# new_ledger_columns = [date, LEVI, MHK, LEVI_POSITION, MHK_POSITION, cumulative_pnl, portfolio_value] ]\n",
    "cols = ['date', 'ticker', 'action', 'price', 'quantity', 'commission', 'cash', 'portfolio_value', 'position']\n",
    "ledger = pd.DataFrame(columns=cols)\n",
    "for i in range(len(new_ledger)):\n",
    "    ledger.at[2*i, 'date'] = new_ledger['date'][i]\n",
    "    ledger.at[2*i+1, 'date'] = new_ledger['date'][i]\n",
    "# ledger: ticker=LEVI if even, otherwise ticker=MHK\n",
    "for i in range(len(ledger)):\n",
    "    if i % 2 == 0:\n",
    "        ticker = 'LEVI'\n",
    "    else:\n",
    "        ticker = 'MHK'\n",
    "    ledger.at[i, 'ticker'] = ticker\n",
    "# ledger: if even: action= BUY if LEVI_position> LEVI_position_prev, otherwise action=SELL\n",
    "# ledger: if odd: action= BUY if MHK_position> MHK_position_prev, otherwise action=SELL\n",
    "for i in range(len(ledger)):\n",
    "    if i==0:\n",
    "        ledger.at[i, 'action'] = 'NONE'\n",
    "        ledger.at[i, 'quantity'] = 0\n",
    "        ledger.at[i, 'price'] = new_ledger['LEVI'][0]\n",
    "        ledger.at[i, 'commission'] = 0\n",
    "        ledger.at[i, 'cash'] = 100000\n",
    "        ledger.at[i, 'portfolio_value'] = 100000\n",
    "        ledger.at[i, 'position'] = 0\n",
    "        continue\n",
    "    if i==1:\n",
    "        ledger.at[i, 'action'] = 'NONE'\n",
    "        ledger.at[i, 'quantity'] = 0\n",
    "        ledger.at[i, 'price'] = new_ledger['MHK'][0]\n",
    "        ledger.at[i, 'commission'] = 0\n",
    "        ledger.at[i, 'cash'] = 100000\n",
    "        ledger.at[i, 'portfolio_value'] = 100000\n",
    "        ledger.at[i, 'position'] = 0\n",
    "        continue\n",
    "    if i % 2 == 0:\n",
    "        if new_ledger['LEVI_position'][i//2] > new_ledger['LEVI_position'][i//2-1]:\n",
    "            ledger.at[i, 'action'] = 'BUY'\n",
    "            ledger.at[i, 'quantity'] = new_ledger['LEVI_position'][i//2] - new_ledger['LEVI_position'][i//2-1]\n",
    "            ledger.at[i, 'price'] = new_ledger['LEVI'][i//2]\n",
    "            ledger.at[i, 'commission'] = 0.005 * new_ledger['LEVI'][i//2] * ledger.at[i, 'quantity']\n",
    "            ledger.at[i, 'cash'] = ledger.at[i-1, 'cash'] - ledger.at[i, 'price'] * ledger.at[i, 'quantity'] - ledger.at[i, 'commission']\n",
    "            ledger.at[i, 'portfolio_value'] = new_ledger['portfolio_value'][i//2]\n",
    "            ledger.at[i, 'position'] = new_ledger['LEVI_position'][i//2]\n",
    "        elif new_ledger['LEVI_position'][i//2] < new_ledger['LEVI_position'][i//2-1]:\n",
    "            ledger.at[i, 'action'] = 'SELL'\n",
    "            ledger.at[i, 'quantity'] = new_ledger['LEVI_position'][i//2-1] - new_ledger['LEVI_position'][i//2]\n",
    "            ledger.at[i, 'price'] = new_ledger['LEVI'][i//2]\n",
    "            ledger.at[i, 'commission'] = 0.005 * new_ledger['LEVI'][i//2] * ledger.at[i, 'quantity']\n",
    "            ledger.at[i, 'cash'] = ledger.at[i-1, 'cash'] + ledger.at[i, 'price'] * ledger.at[i, 'quantity'] - ledger.at[i, 'commission']\n",
    "            ledger.at[i, 'portfolio_value'] = new_ledger['portfolio_value'][i//2]\n",
    "            ledger.at[i, 'position'] = new_ledger['LEVI_position'][i//2]\n",
    "        else:\n",
    "\n",
    "            ledger.at[i, 'action'] = 'NONE'\n",
    "            ledger.at[i, 'quantity'] = 0\n",
    "            ledger.at[i, 'price'] = new_ledger['LEVI'][i//2]\n",
    "            ledger.at[i, 'commission'] = 0\n",
    "            ledger.at[i, 'cash'] = ledger.at[i-1, 'cash']\n",
    "            ledger.at[i, 'portfolio_value'] = new_ledger['portfolio_value'][i//2]\n",
    "            ledger.at[i, 'position'] = new_ledger['LEVI_position'][i//2]\n",
    " \n",
    "    else:\n",
    "        if new_ledger['MHK_position'][i//2] > new_ledger['MHK_position'][i//2-1]:\n",
    "            ledger.at[i, 'action'] = 'BUY'\n",
    "            ledger.at[i, 'quantity'] = new_ledger['MHK_position'][i//2] - new_ledger['MHK_position'][i//2-1]\n",
    "            ledger.at[i, 'price'] = new_ledger['MHK'][i//2]\n",
    "            ledger.at[i, 'commission'] = 0.005 * new_ledger['MHK'][i//2] * ledger.at[i, 'quantity']\n",
    "            ledger.at[i, 'cash'] = ledger.at[i-1, 'cash'] - ledger.at[i, 'price'] * ledger.at[i, 'quantity'] - ledger.at[i, 'commission']\n",
    "            ledger.at[i, 'portfolio_value'] = new_ledger['portfolio_value'][i//2]\n",
    "            ledger.at[i, 'position'] = new_ledger['MHK_position'][i//2]\n",
    "        elif new_ledger['MHK_position'][i//2] < new_ledger['MHK_position'][i//2-1]:\n",
    "            ledger.at[i, 'action'] = 'SELL'\n",
    "            ledger.at[i, 'quantity'] = new_ledger['MHK_position'][i//2-1] - new_ledger['MHK_position'][i//2]\n",
    "            ledger.at[i, 'price'] = new_ledger['MHK'][i//2]\n",
    "            ledger.at[i, 'commission'] = 0.005 * new_ledger['MHK'][i//2] * ledger.at[i, 'quantity']\n",
    "            ledger.at[i, 'cash'] = ledger.at[i-1, 'cash'] + ledger.at[i, 'price'] * ledger.at[i, 'quantity'] - ledger.at[i, 'commission']\n",
    "            ledger.at[i, 'portfolio_value'] = new_ledger['portfolio_value'][i//2]\n",
    "            ledger.at[i, 'position'] = new_ledger['MHK_position'][i//2]\n",
    "            \n",
    "        else:\n",
    "            ledger.at[i, 'action'] = 'NONE'\n",
    "            ledger.at[i, 'quantity'] = 0\n",
    "            ledger.at[i, 'price'] = new_ledger['MHK'][i//2]\n",
    "            ledger.at[i, 'commission'] = 0\n",
    "            ledger.at[i, 'cash'] = ledger.at[i-1, 'cash']\n",
    "            ledger.at[i, 'portfolio_value'] = new_ledger['portfolio_value'][i//2]\n",
    "            ledger.at[i, 'position'] = new_ledger['MHK_position'][i//2]\n",
    "            \n",
    "\n",
    "\n",
    "\n",
    "print(ledger)\n",
    "ledger.to_csv('../data/final_ledger.csv', index=False)"
   ]
  },
  {
   "cell_type": "code",
   "execution_count": 27,
   "id": "b59088de",
   "metadata": {},
   "outputs": [
    {
     "name": "stdout",
     "output_type": "stream",
     "text": [
      "           date ticker action   price  quantity  commission strategy    zscore\n",
      "0    2024-04-01   LEVI   NONE   20.55         0         0.0     none  0.943031\n",
      "1    2024-04-01    MHK   NONE  123.29         0         0.0     none  0.943031\n",
      "2    2024-04-02   LEVI   NONE   20.50         0         0.0     none  0.764991\n",
      "3    2024-04-02    MHK   NONE  125.15         0         0.0     none  0.764991\n",
      "4    2024-04-03   LEVI   NONE   20.09         0         0.0     none  1.010862\n",
      "..          ...    ...    ...     ...       ...         ...      ...       ...\n",
      "489  2025-03-24    MHK   NONE  113.74         0         0.0     none   -0.5437\n",
      "490  2025-03-25   LEVI   NONE   15.59         0         0.0     none -0.613945\n",
      "491  2025-03-25    MHK   NONE  114.18         0         0.0     none -0.613945\n",
      "492  2025-03-26   LEVI   NONE   16.38         0         0.0     none  -0.31571\n",
      "493  2025-03-26    MHK   NONE  115.01         0         0.0     none  -0.31571\n",
      "\n",
      "[494 rows x 8 columns]\n"
     ]
    }
   ],
   "source": [
    "## renew blotter_converted.csv based on final_ledger.csv\n",
    "## columns = date,ticker,action,price,quantity,commission,strategy,zscore\n",
    "collumns = ['date', 'ticker', 'action', 'price', 'quantity', 'commission', 'strategy', 'zscore']\n",
    "blotter = pd.DataFrame(columns=collumns)\n",
    "final_ledger = pd.read_csv('../data/final_ledger.csv')\n",
    "blotter['date'] = final_ledger['date']\n",
    "blotter['ticker'] = final_ledger['ticker']\n",
    "blotter['action'] = final_ledger['action']\n",
    "blotter['price'] = final_ledger['price']\n",
    "blotter['quantity'] = final_ledger['quantity']\n",
    "blotter['commission'] = final_ledger['commission']\n",
    "b =pd.read_csv('../data/b.csv')\n",
    "for i in range(len(blotter)):\n",
    "    blotter.at[i, 'strategy'] = b.at[i//2, 'strategy']\n",
    "    blotter.at[i, 'zscore'] = b.at[i//2, 'zscore']\n",
    "print(blotter)\n",
    "blotter.to_csv('../data/blotter_converted.csv', index=False)"
   ]
  },
  {
   "cell_type": "code",
   "execution_count": 2,
   "id": "fc9cc816",
   "metadata": {},
   "outputs": [
    {
     "name": "stdout",
     "output_type": "stream",
     "text": [
      "         date ticker action   price  quantity  commission        strategy  \\\n",
      "0  2024-04-01   LEVI    BUY   20.55         1    0.010275  mean_reversion   \n",
      "1  2024-04-01    MHK   SELL  123.29         1    0.061645  mean_reversion   \n",
      "2  2024-04-02   LEVI   SELL   20.50         1    0.010250  mean_reversion   \n",
      "3  2024-04-02    MHK    BUY  125.15         1    0.062575  mean_reversion   \n",
      "4  2024-04-03   LEVI    BUY   20.09         1    0.010045  mean_reversion   \n",
      "\n",
      "     zscore  \n",
      "0  0.943031  \n",
      "1  0.943031  \n",
      "2  0.764991  \n",
      "3  0.764991  \n",
      "4  1.010862  \n"
     ]
    }
   ],
   "source": [
    "import pandas as pd\n",
    "\n",
    "# 读取 blotter_converted.csv 和 b.csv\n",
    "blotter = pd.read_csv('../data/blotter_converted.csv')\n",
    "b = pd.read_csv('../data/b.csv')\n",
    "\n",
    "# 确保 b.csv 的索引是 0 到 n\n",
    "b.reset_index(inplace=True)  # 将索引重置为 0 到 n\n",
    "b.rename(columns={'index': 'day_index'}, inplace=True)  # 重命名索引列为 day_index\n",
    "\n",
    "# 将 blotter_converted.csv 中的日期映射到 b.csv 的索引\n",
    "# 假设 blotter_converted.csv 中的日期列为 'date'\n",
    "blotter['day_index'] = blotter['date'].rank(method='dense').astype(int) - 1  # 将日期映射为 0 到 n 的索引\n",
    "\n",
    "# 使用 b.csv 中的 zscore 替换 blotter_converted.csv 中的 zscore\n",
    "blotter['zscore'] = blotter['day_index'].map(b.set_index('day_index')['zscore'])\n",
    "\n",
    "blotter.drop(columns=['day_index'], inplace=True)  # 删除 day_index 列\n",
    "\n",
    "# 检查修复后的数据\n",
    "print(blotter.head())\n",
    "\n",
    "\n",
    "# 保存修复后的 blotter_converted.csv\n",
    "blotter.to_csv('../data/blotter_converted_fixed.csv', index=False)"
   ]
  },
  {
   "cell_type": "code",
   "execution_count": null,
   "id": "48c1275d",
   "metadata": {},
   "outputs": [
    {
     "name": "stdout",
     "output_type": "stream",
     "text": [
      "         cash  portfolio_value\n",
      "0   79.439725        95.819725\n",
      "1  202.668080       104.038080\n",
      "2  223.157830       108.147830\n",
      "3   97.945255        97.945255\n",
      "4   77.845210        94.225210\n"
     ]
    }
   ],
   "source": []
  },
  {
   "cell_type": "code",
   "execution_count": 6,
   "id": "5a7722c5",
   "metadata": {},
   "outputs": [
    {
     "name": "stdout",
     "output_type": "stream",
     "text": [
      "mean_reversion: 177\n",
      "trend_following: 36\n"
     ]
    }
   ],
   "source": [
    "import pandas as pd\n",
    "\n",
    "# 读取 blotter.csv 文件\n",
    "blotter = pd.read_csv('../data/blotter.csv')\n",
    "\n",
    "# 统计每种 strategy 的数量\n",
    "strategy_counts = blotter['strategy'].value_counts()\n",
    "\n",
    "# 除以 2，因为每个日期有两行（LEVI 和 MHK）\n",
    "mean_reversion_count = strategy_counts.get('mean_reversion', 0) // 2\n",
    "trend_following_count = strategy_counts.get('trend_following', 0) // 2\n",
    "\n",
    "# 打印结果\n",
    "print(f\"mean_reversion: {mean_reversion_count}\")\n",
    "print(f\"trend_following: {trend_following_count}\")"
   ]
  },
  {
   "cell_type": "code",
   "execution_count": 2,
   "id": "fa93fb2a",
   "metadata": {},
   "outputs": [
    {
     "name": "stdout",
     "output_type": "stream",
     "text": [
      "        date ticker action   price  quantity  commission        strategy  \\\n",
      "0 2024-04-01   LEVI    BUY   20.55         1    0.010275  mean_reversion   \n",
      "1 2024-04-01    MHK   SELL  123.29         1    0.061645  mean_reversion   \n",
      "2 2024-04-02   LEVI   SELL   20.50         1    0.010250  mean_reversion   \n",
      "3 2024-04-02    MHK    BUY  125.15         1    0.062575  mean_reversion   \n",
      "4 2024-04-03   LEVI    BUY   20.09         1    0.010045  mean_reversion   \n",
      "\n",
      "        zscore  \n",
      "0 -1109.910866  \n",
      "1 -1109.910866  \n",
      "2 -1130.937649  \n",
      "3 -1130.937649  \n",
      "4 -1075.123099  \n"
     ]
    }
   ],
   "source": [
    "import pandas as pd\n",
    "\n",
    "# 假设您有一个交易日历，包含所有交易日\n",
    "# 这里以 2020-04-01 到 2025-04-01 的交易日为例\n",
    "# 您可以从数据源（如交易所或 API）获取实际的交易日历\n",
    "all_trading_days = pd.date_range(start=\"2024-04-01\", end=\"2025-04-01\", freq=\"B\")  # 'B' 表示工作日\n",
    "\n",
    "# 读取 blotter.csv 文件\n",
    "blotter = pd.read_csv('../data/blotter.csv')\n",
    "\n",
    "# 将交易日编号映射到实际日期\n",
    "blotter['date'] = blotter['date'].apply(lambda x: all_trading_days[x-989])\n",
    "\n",
    "# 查看转换后的数据\n",
    "print(blotter.head())\n",
    "\n",
    "# 保存回 CSV 文件（如果需要）\n",
    "blotter.to_csv('../data/blotter_converted.csv', index=False)"
   ]
  },
  {
   "cell_type": "code",
   "execution_count": 4,
   "id": "8371dc13",
   "metadata": {},
   "outputs": [
    {
     "name": "stdout",
     "output_type": "stream",
     "text": [
      "        date ticker action   price  quantity  commission           cash  \\\n",
      "0 2024-04-01   LEVI    BUY   20.55         1    0.010275   99979.439725   \n",
      "1 2024-04-01    MHK   SELL  123.29         1    0.061645  100102.668080   \n",
      "2 2024-04-02   LEVI   SELL   20.50         1    0.010250  100123.157830   \n",
      "3 2024-04-02    MHK    BUY  125.15         1    0.062575   99997.945255   \n",
      "4 2024-04-03   LEVI    BUY   20.09         1    0.010045   99977.845210   \n",
      "\n",
      "   portfolio_value  \n",
      "0     99995.819725  \n",
      "1    100004.038080  \n",
      "2    100008.147830  \n",
      "3     99997.945255  \n",
      "4     99994.225210  \n"
     ]
    }
   ],
   "source": [
    "ledger = pd.read_csv('../data/ledger.csv')\n",
    "ledger['date'] = ledger['date'].apply(lambda x: all_trading_days[x-989])\n",
    "print(ledger.head())\n",
    "ledger.to_csv('../data/ledger_converted.csv', index=False)"
   ]
  },
  {
   "cell_type": "code",
   "execution_count": 6,
   "id": "1669dec0",
   "metadata": {},
   "outputs": [
    {
     "name": "stdout",
     "output_type": "stream",
     "text": [
      "         date ticker action   price  quantity  commission           cash  \\\n",
      "0  2024-04-01   LEVI    BUY   20.55         1    0.010275   99979.439725   \n",
      "1  2024-04-01    MHK   SELL  123.29         1    0.061645  100102.668080   \n",
      "2  2024-04-02   LEVI   SELL   20.50         1    0.010250  100123.157830   \n",
      "3  2024-04-02    MHK    BUY  125.15         1    0.062575   99997.945255   \n",
      "4  2024-04-03   LEVI    BUY   20.09         1    0.010045   99977.845210   \n",
      "\n",
      "   portfolio_value  position  cumulative_position  \n",
      "0     99995.819725         1                    1  \n",
      "1    100004.038080        -1                   -1  \n",
      "2    100008.147830        -1                    0  \n",
      "3     99997.945255         1                    0  \n",
      "4     99994.225210         1                    1  \n"
     ]
    }
   ],
   "source": [
    "import pandas as pd\n",
    "\n",
    "# 读取 ledger.csv 文件\n",
    "ledger = pd.read_csv('../data/ledger_converted.csv')\n",
    "\n",
    "# 假设 ledger 文件包含以下列：['date', 'ticker', 'action', 'quantity']\n",
    "# 将奇数行和偶数行分开处理\n",
    "ledger['position'] = 0\n",
    "\n",
    "# 遍历每一行，根据 'action' 更新 'position'\n",
    "for i in range(len(ledger)):\n",
    "    if ledger.loc[i, 'action'] == 'BUY':\n",
    "        ledger.loc[i, 'position'] += ledger.loc[i, 'quantity']\n",
    "    elif ledger.loc[i, 'action'] == 'SELL':\n",
    "        ledger.loc[i, 'position'] -= ledger.loc[i, 'quantity']\n",
    "\n",
    "# 分别计算奇数行和偶数行的累积头寸\n",
    "ledger['cumulative_position'] = ledger.groupby(ledger.index % 2)['position'].cumsum()\n",
    "\n",
    "# 查看处理后的数据\n",
    "print(ledger.head())\n",
    "\n",
    "# 保存回 CSV 文件（如果需要）\n",
    "ledger.to_csv('../data/ledger_with_positions.csv', index=False)"
   ]
  },
  {
   "cell_type": "code",
   "execution_count": null,
   "id": "590ad910",
   "metadata": {},
   "outputs": [],
   "source": [
    "'''ArithmeticError\n",
    "\n",
    "\n",
    "\n",
    "\n",
    "now provide me with a good look html templates for showing our pairs trading methods, I need an interactive graph ( move mouse to show specific number) of the everyday ledger and boltter\n",
    "\n",
    "\n",
    "\n",
    "'''"
   ]
  }
 ],
 "metadata": {
  "kernelspec": {
   "display_name": "Python 3",
   "language": "python",
   "name": "python3"
  },
  "language_info": {
   "codemirror_mode": {
    "name": "ipython",
    "version": 3
   },
   "file_extension": ".py",
   "mimetype": "text/x-python",
   "name": "python",
   "nbconvert_exporter": "python",
   "pygments_lexer": "ipython3",
   "version": "3.12.5"
  }
 },
 "nbformat": 4,
 "nbformat_minor": 5
}
